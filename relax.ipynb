{
 "cells": [
  {
   "cell_type": "code",
   "execution_count": 263,
   "metadata": {},
   "outputs": [],
   "source": [
    "import pandas as pd\n",
    "import numpy as np\n",
    "import datetime\n",
    "from datetime import datetime, date, timedelta\n",
    "from sklearn.ensemble import RandomForestClassifier\n",
    "from sklearn.preprocessing import scale\n",
    "from sklearn.model_selection import train_test_split\n",
    "from sklearn.metrics import accuracy_score, f1_score"
   ]
  },
  {
   "cell_type": "code",
   "execution_count": 251,
   "metadata": {},
   "outputs": [],
   "source": [
    "# import data\n",
    "df_user = pd.read_csv('takehome_users.csv',index_col=False)\n",
    "engagement = pd.read_csv('takehome_user_engagement.csv', index_col=False)"
   ]
  },
  {
   "cell_type": "code",
   "execution_count": 253,
   "metadata": {},
   "outputs": [],
   "source": [
    "# group engagement data by user_id\n",
    "eng_group = engagement.groupby('user_id')['time_stamp'].count()\n",
    "eng_group = eng_group.reset_index()\n",
    "eng_group.columns=['user_id', 'count']\n",
    "eng_group = eng_group.loc[eng_group['count']>=3]"
   ]
  },
  {
   "cell_type": "code",
   "execution_count": 254,
   "metadata": {},
   "outputs": [],
   "source": [
    "# replace missing value\n",
    "df_user['last_session_creation_time'] = df_user['last_session_creation_time'].replace(np.NaN, \n",
    "                                              df_user['last_session_creation_time'].mean())\n",
    "# calculate days between today and creation_time \n",
    "df_user['since_creation'] = pd.to_datetime(df_user['creation_time'],\n",
    "                                 format=\"%Y-%m-%d %H:%M:%S\").apply(lambda x: \n",
    "                                                                   (pd.to_datetime('today')-x).days)"
   ]
  },
  {
   "cell_type": "code",
   "execution_count": 255,
   "metadata": {},
   "outputs": [],
   "source": [
    "# find adopted_user\n",
    "adopted_user=[]\n",
    "for user_id in eng_group['user_id']:\n",
    "    users = engagement.loc[engagement['user_id'] == user_id].copy()\n",
    "    users['date']=pd.to_datetime(users['time_stamp'],\n",
    "                                 format=\"%Y-%m-%d %H:%M:%S\").apply(lambda x: x.date())\n",
    "    users = users.drop_duplicates(subset=['date'])\n",
    "    count = 1\n",
    "    login_time=pd.to_datetime(users['time_stamp'],format=\"%Y-%m-%d %H:%M:%S\").tolist()\n",
    "    for time in login_time:\n",
    "        plus7 = time+timedelta(days=7)\n",
    "        for i in range(login_time.index(time), login_time.index(login_time[-1])+1):\n",
    "            if login_time[i]>time and login_time[i]<=plus7:\n",
    "                count=count+1\n",
    "        if count>2:\n",
    "            adopted_user.append(user_id)\n",
    "            break\n",
    "        count=1               "
   ]
  },
  {
   "cell_type": "code",
   "execution_count": 257,
   "metadata": {},
   "outputs": [
    {
     "data": {
      "text/html": [
       "<div>\n",
       "<style>\n",
       "    .dataframe thead tr:only-child th {\n",
       "        text-align: right;\n",
       "    }\n",
       "\n",
       "    .dataframe thead th {\n",
       "        text-align: left;\n",
       "    }\n",
       "\n",
       "    .dataframe tbody tr th {\n",
       "        vertical-align: top;\n",
       "    }\n",
       "</style>\n",
       "<table border=\"1\" class=\"dataframe\">\n",
       "  <thead>\n",
       "    <tr style=\"text-align: right;\">\n",
       "      <th></th>\n",
       "      <th>object_id</th>\n",
       "      <th>creation_time</th>\n",
       "      <th>name</th>\n",
       "      <th>email</th>\n",
       "      <th>creation_source</th>\n",
       "      <th>last_session_creation_time</th>\n",
       "      <th>opted_in_to_mailing_list</th>\n",
       "      <th>enabled_for_marketing_drip</th>\n",
       "      <th>org_id</th>\n",
       "      <th>invited_by_user_id</th>\n",
       "      <th>since_creation</th>\n",
       "      <th>adopted_user</th>\n",
       "    </tr>\n",
       "  </thead>\n",
       "  <tbody>\n",
       "    <tr>\n",
       "      <th>0</th>\n",
       "      <td>1</td>\n",
       "      <td>2014-04-22 03:53:30</td>\n",
       "      <td>Clausen August</td>\n",
       "      <td>AugustCClausen@yahoo.com</td>\n",
       "      <td>GUEST_INVITE</td>\n",
       "      <td>1.398139e+09</td>\n",
       "      <td>1</td>\n",
       "      <td>0</td>\n",
       "      <td>11</td>\n",
       "      <td>10803.0</td>\n",
       "      <td>1621</td>\n",
       "      <td>0</td>\n",
       "    </tr>\n",
       "    <tr>\n",
       "      <th>1</th>\n",
       "      <td>2</td>\n",
       "      <td>2013-11-15 03:45:04</td>\n",
       "      <td>Poole Matthew</td>\n",
       "      <td>MatthewPoole@gustr.com</td>\n",
       "      <td>ORG_INVITE</td>\n",
       "      <td>1.396238e+09</td>\n",
       "      <td>0</td>\n",
       "      <td>0</td>\n",
       "      <td>1</td>\n",
       "      <td>316.0</td>\n",
       "      <td>1779</td>\n",
       "      <td>1</td>\n",
       "    </tr>\n",
       "    <tr>\n",
       "      <th>2</th>\n",
       "      <td>3</td>\n",
       "      <td>2013-03-19 23:14:52</td>\n",
       "      <td>Bottrill Mitchell</td>\n",
       "      <td>MitchellBottrill@gustr.com</td>\n",
       "      <td>ORG_INVITE</td>\n",
       "      <td>1.363735e+09</td>\n",
       "      <td>0</td>\n",
       "      <td>0</td>\n",
       "      <td>94</td>\n",
       "      <td>1525.0</td>\n",
       "      <td>2020</td>\n",
       "      <td>0</td>\n",
       "    </tr>\n",
       "    <tr>\n",
       "      <th>3</th>\n",
       "      <td>4</td>\n",
       "      <td>2013-05-21 08:09:28</td>\n",
       "      <td>Clausen Nicklas</td>\n",
       "      <td>NicklasSClausen@yahoo.com</td>\n",
       "      <td>GUEST_INVITE</td>\n",
       "      <td>1.369210e+09</td>\n",
       "      <td>0</td>\n",
       "      <td>0</td>\n",
       "      <td>1</td>\n",
       "      <td>5151.0</td>\n",
       "      <td>1957</td>\n",
       "      <td>0</td>\n",
       "    </tr>\n",
       "    <tr>\n",
       "      <th>4</th>\n",
       "      <td>5</td>\n",
       "      <td>2013-01-17 10:14:20</td>\n",
       "      <td>Raw Grace</td>\n",
       "      <td>GraceRaw@yahoo.com</td>\n",
       "      <td>GUEST_INVITE</td>\n",
       "      <td>1.358850e+09</td>\n",
       "      <td>0</td>\n",
       "      <td>0</td>\n",
       "      <td>193</td>\n",
       "      <td>5240.0</td>\n",
       "      <td>2081</td>\n",
       "      <td>0</td>\n",
       "    </tr>\n",
       "  </tbody>\n",
       "</table>\n",
       "</div>"
      ],
      "text/plain": [
       "   object_id        creation_time               name  \\\n",
       "0          1  2014-04-22 03:53:30     Clausen August   \n",
       "1          2  2013-11-15 03:45:04      Poole Matthew   \n",
       "2          3  2013-03-19 23:14:52  Bottrill Mitchell   \n",
       "3          4  2013-05-21 08:09:28    Clausen Nicklas   \n",
       "4          5  2013-01-17 10:14:20          Raw Grace   \n",
       "\n",
       "                        email creation_source  last_session_creation_time  \\\n",
       "0    AugustCClausen@yahoo.com    GUEST_INVITE                1.398139e+09   \n",
       "1      MatthewPoole@gustr.com      ORG_INVITE                1.396238e+09   \n",
       "2  MitchellBottrill@gustr.com      ORG_INVITE                1.363735e+09   \n",
       "3   NicklasSClausen@yahoo.com    GUEST_INVITE                1.369210e+09   \n",
       "4          GraceRaw@yahoo.com    GUEST_INVITE                1.358850e+09   \n",
       "\n",
       "   opted_in_to_mailing_list  enabled_for_marketing_drip  org_id  \\\n",
       "0                         1                           0      11   \n",
       "1                         0                           0       1   \n",
       "2                         0                           0      94   \n",
       "3                         0                           0       1   \n",
       "4                         0                           0     193   \n",
       "\n",
       "   invited_by_user_id  since_creation  adopted_user  \n",
       "0             10803.0            1621             0  \n",
       "1               316.0            1779             1  \n",
       "2              1525.0            2020             0  \n",
       "3              5151.0            1957             0  \n",
       "4              5240.0            2081             0  "
      ]
     },
     "execution_count": 257,
     "metadata": {},
     "output_type": "execute_result"
    }
   ],
   "source": [
    "# mark adopted_user in df_user dataset\n",
    "df_user_adopted_user = []\n",
    "for object_id in df_user['object_id']:\n",
    "    if object_id in adopted_user:\n",
    "        df_user_adopted_user.append(1)\n",
    "    else:\n",
    "        df_user_adopted_user.append(0)\n",
    "df_user['adopted_user']=df_user_adopted_user\n",
    "df_user.head()"
   ]
  },
  {
   "cell_type": "code",
   "execution_count": 259,
   "metadata": {},
   "outputs": [
    {
     "name": "stderr",
     "output_type": "stream",
     "text": [
      "/Users/yishi/.ipython/sklearn/preprocessing/data.py:164: UserWarning: Numerical issues were encountered when centering the data and might not be solved. Dataset may contain too large values. You may need to prescale your features.\n",
      "  warnings.warn(\"Numerical issues were encountered \"\n"
     ]
    }
   ],
   "source": [
    "# preprocessing date before ML\n",
    "X = df_user.iloc[:, :-1]\n",
    "y = df_user.iloc[:, -1]\n",
    "X.drop(['object_id', 'creation_time', 'name', 'email', 'invited_by_user_id'], \n",
    "       axis=1, inplace=True)\n",
    "X = pd.get_dummies(X, dummy_na=True)\n",
    "columns = X.columns\n",
    "\n",
    "X=scale(X)\n",
    "X_train, X_test, y_train, y_test = train_test_split(X, y, test_size=0.3, random_state=42)"
   ]
  },
  {
   "cell_type": "code",
   "execution_count": 266,
   "metadata": {},
   "outputs": [
    {
     "name": "stdout",
     "output_type": "stream",
     "text": [
      "0.963611111111\n",
      "0.855567805954\n",
      "Variable: last_session_creation_time Importance: 0.69\n",
      "Variable: since_creation   Importance: 0.21\n",
      "Variable: org_id           Importance: 0.08\n",
      "Variable: opted_in_to_mailing_list Importance: 0.01\n",
      "Variable: enabled_for_marketing_drip Importance: 0.0\n",
      "Variable: creation_source_GUEST_INVITE Importance: 0.0\n",
      "Variable: creation_source_ORG_INVITE Importance: 0.0\n",
      "Variable: creation_source_PERSONAL_PROJECTS Importance: 0.0\n",
      "Variable: creation_source_SIGNUP Importance: 0.0\n",
      "Variable: creation_source_SIGNUP_GOOGLE_AUTH Importance: 0.0\n",
      "Variable: creation_source_nan Importance: 0.0\n"
     ]
    }
   ],
   "source": [
    "rf = RandomForestClassifier(n_estimators=100, n_jobs=2, random_state=0)\n",
    "rf.fit(X, y)\n",
    "rf.fit(X_train, y_train)\n",
    "rf_pred = rf.predict(X_test)\n",
    "print(accuracy_score(y_test, rf_pred))\n",
    "print(f1_score(y_test, rf_pred))\n",
    "feature_list = list(columns)\n",
    "# Get numerical feature importances\n",
    "importances = list(rf.feature_importances_)\n",
    "# List of tuples with variable and importance\n",
    "feature_importances = [(feature, round(importance, 2)) for feature, importance \n",
    "                       in zip(feature_list, importances)]\n",
    "# Sort the feature importances by most important first\n",
    "feature_importances = sorted(feature_importances, key = lambda x: x[1], reverse = True)\n",
    "# Print out the feature and importances \n",
    "[print('Variable: {:16} Importance: {}'.format(*pair)) for pair in feature_importances];"
   ]
  },
  {
   "cell_type": "markdown",
   "metadata": {},
   "source": [
    "According to the feature importance shown above, last_session_creation_time is the most important feature in predicting whether the user would be an adopted user or not. Also, creation_time is another factor that affects the result."
   ]
  },
  {
   "cell_type": "code",
   "execution_count": null,
   "metadata": {},
   "outputs": [],
   "source": []
  }
 ],
 "metadata": {
  "kernelspec": {
   "display_name": "Python 3",
   "language": "python",
   "name": "python3"
  },
  "language_info": {
   "codemirror_mode": {
    "name": "ipython",
    "version": 3
   },
   "file_extension": ".py",
   "mimetype": "text/x-python",
   "name": "python",
   "nbconvert_exporter": "python",
   "pygments_lexer": "ipython3",
   "version": "3.6.0"
  }
 },
 "nbformat": 4,
 "nbformat_minor": 2
}
